{
 "cells": [
  {
   "cell_type": "code",
   "execution_count": 2,
   "metadata": {},
   "outputs": [
    {
     "ename": "ModuleNotFoundError",
     "evalue": "No module named 'skfuzzy'",
     "output_type": "error",
     "traceback": [
      "\u001b[1;31m---------------------------------------------------------------------------\u001b[0m",
      "\u001b[1;31mModuleNotFoundError\u001b[0m                       Traceback (most recent call last)",
      "\u001b[1;32m<ipython-input-2-7de8c363c85a>\u001b[0m in \u001b[0;36m<module>\u001b[1;34m\u001b[0m\n\u001b[0;32m      2\u001b[0m \u001b[0mwarnings\u001b[0m\u001b[1;33m.\u001b[0m\u001b[0mfilterwarnings\u001b[0m\u001b[1;33m(\u001b[0m\u001b[1;34m'ignore'\u001b[0m\u001b[1;33m)\u001b[0m\u001b[1;33m\u001b[0m\u001b[1;33m\u001b[0m\u001b[0m\n\u001b[0;32m      3\u001b[0m \u001b[1;32mimport\u001b[0m \u001b[0mnumpy\u001b[0m \u001b[1;32mas\u001b[0m \u001b[0mnp\u001b[0m\u001b[1;33m\u001b[0m\u001b[1;33m\u001b[0m\u001b[0m\n\u001b[1;32m----> 4\u001b[1;33m \u001b[1;32mimport\u001b[0m \u001b[0mskfuzzy\u001b[0m \u001b[1;32mas\u001b[0m \u001b[0mfuzz\u001b[0m\u001b[1;33m\u001b[0m\u001b[1;33m\u001b[0m\u001b[0m\n\u001b[0m\u001b[0;32m      5\u001b[0m \u001b[1;32mfrom\u001b[0m \u001b[0mskfuzzy\u001b[0m \u001b[1;32mimport\u001b[0m \u001b[0mcontrol\u001b[0m \u001b[1;32mas\u001b[0m \u001b[0mctrl\u001b[0m\u001b[1;33m\u001b[0m\u001b[1;33m\u001b[0m\u001b[0m\n\u001b[0;32m      6\u001b[0m \u001b[0mget_ipython\u001b[0m\u001b[1;33m(\u001b[0m\u001b[1;33m)\u001b[0m\u001b[1;33m.\u001b[0m\u001b[0mrun_line_magic\u001b[0m\u001b[1;33m(\u001b[0m\u001b[1;34m'matplotlib'\u001b[0m\u001b[1;33m,\u001b[0m \u001b[1;34m'inline'\u001b[0m\u001b[1;33m)\u001b[0m\u001b[1;33m\u001b[0m\u001b[1;33m\u001b[0m\u001b[0m\n",
      "\u001b[1;31mModuleNotFoundError\u001b[0m: No module named 'skfuzzy'"
     ]
    }
   ],
   "source": [
    "import warnings\n",
    "warnings.filterwarnings('ignore')\n",
    "import numpy as np\n",
    "import skfuzzy as fuzz\n",
    "from skfuzzy import control as ctrl\n",
    "%matplotlib inline\n",
    "\n",
    "calidad = ctrl.Antecedent(np.arange(0,11,1), 'calidad')\n",
    "servicio = ctrl.Antecedent(np.arange(0,11,1), 'servicio')\n",
    "propina = ctrl.Antecedent(np.arange(0,11,1), 'propina')\n",
    "\n",
    "calidad.automf(3)\n",
    "servicio.automf(3)\n",
    "\n",
    "propina['bajo'] = fuzz.trimf(propina.universe, [0,0,13])\n",
    "propina['medio'] = fuzz.trimf(propina.universe, [0,13,25])\n",
    "propina['alto'] = fuzz.trimf(propina.universe, [13,25,25])\n",
    "\n",
    "calidad['average'].view()\n",
    "servicio.view()\n",
    "propina.view()\n",
    "\n",
    "regla1 = ctrl.Rule(calidad['poor'] |  servicio['poor'], propina['bajo'])\n",
    "regla2 = ctrl.Rule(servicio['average'], propina['medio'])\n",
    "regla3 = ctrl.Rule(calidad['good'] |  servicio['good'], propina['alto'])\n",
    "\n",
    "regla1.view()\n",
    "\n",
    "control_propina = ctrl.ControlSystem([regla1, regla2, regla3])\n",
    "asignacion_propina = ctrl.ControlSystemSimulation(control_propina)\n",
    "\n",
    "asigacion_propina.input['calidad'] = 6.5\n",
    "asigacion_propina.input['servicio'] = 9.8\n",
    "\n",
    "asignacion_propina.compute()\n",
    "\n",
    "print(\"Valor de la propina: \")\n",
    "print(asignacion_propina.output['propina'])\n",
    "\n",
    "propina.view(sim=asignacion_propina)"
   ]
  },
  {
   "cell_type": "code",
   "execution_count": null,
   "metadata": {},
   "outputs": [],
   "source": []
  }
 ],
 "metadata": {
  "kernelspec": {
   "display_name": "Python 3",
   "language": "python",
   "name": "python3"
  },
  "language_info": {
   "codemirror_mode": {
    "name": "ipython",
    "version": 3
   },
   "file_extension": ".py",
   "mimetype": "text/x-python",
   "name": "python",
   "nbconvert_exporter": "python",
   "pygments_lexer": "ipython3",
   "version": "3.8.3"
  }
 },
 "nbformat": 4,
 "nbformat_minor": 4
}
